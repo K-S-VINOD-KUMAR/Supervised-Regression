{
 "cells": [
  {
   "cell_type": "markdown",
   "metadata": {},
   "source": [
    "### Non Linear Regression with one variable (or) Polynomial Regression"
   ]
  },
  {
   "cell_type": "code",
   "execution_count": 3,
   "metadata": {},
   "outputs": [],
   "source": [
    "import pandas as pd\n",
    "import numpy as np \n",
    "import matplotlib.pyplot as plt\n",
    "import seaborn as sns"
   ]
  },
  {
   "cell_type": "code",
   "execution_count": 4,
   "metadata": {},
   "outputs": [],
   "source": [
    "gdp = pd.read_csv('https://raw.githubusercontent.com/AP-State-Skill-Development-Corporation/Datasets/master/Regression/china_gdp.csv')"
   ]
  },
  {
   "cell_type": "code",
   "execution_count": 5,
   "metadata": {},
   "outputs": [
    {
     "data": {
      "text/html": [
       "<div>\n",
       "<style scoped>\n",
       "    .dataframe tbody tr th:only-of-type {\n",
       "        vertical-align: middle;\n",
       "    }\n",
       "\n",
       "    .dataframe tbody tr th {\n",
       "        vertical-align: top;\n",
       "    }\n",
       "\n",
       "    .dataframe thead th {\n",
       "        text-align: right;\n",
       "    }\n",
       "</style>\n",
       "<table border=\"1\" class=\"dataframe\">\n",
       "  <thead>\n",
       "    <tr style=\"text-align: right;\">\n",
       "      <th></th>\n",
       "      <th>Year</th>\n",
       "      <th>Value</th>\n",
       "    </tr>\n",
       "  </thead>\n",
       "  <tbody>\n",
       "    <tr>\n",
       "      <th>0</th>\n",
       "      <td>1960</td>\n",
       "      <td>5.918412e+10</td>\n",
       "    </tr>\n",
       "    <tr>\n",
       "      <th>1</th>\n",
       "      <td>1961</td>\n",
       "      <td>4.955705e+10</td>\n",
       "    </tr>\n",
       "    <tr>\n",
       "      <th>2</th>\n",
       "      <td>1962</td>\n",
       "      <td>4.668518e+10</td>\n",
       "    </tr>\n",
       "    <tr>\n",
       "      <th>3</th>\n",
       "      <td>1963</td>\n",
       "      <td>5.009730e+10</td>\n",
       "    </tr>\n",
       "    <tr>\n",
       "      <th>4</th>\n",
       "      <td>1964</td>\n",
       "      <td>5.906225e+10</td>\n",
       "    </tr>\n",
       "  </tbody>\n",
       "</table>\n",
       "</div>"
      ],
      "text/plain": [
       "   Year         Value\n",
       "0  1960  5.918412e+10\n",
       "1  1961  4.955705e+10\n",
       "2  1962  4.668518e+10\n",
       "3  1963  5.009730e+10\n",
       "4  1964  5.906225e+10"
      ]
     },
     "execution_count": 5,
     "metadata": {},
     "output_type": "execute_result"
    }
   ],
   "source": [
    "gdp.head()"
   ]
  },
  {
   "cell_type": "code",
   "execution_count": 6,
   "metadata": {},
   "outputs": [
    {
     "data": {
      "text/plain": [
       "(55, 2)"
      ]
     },
     "execution_count": 6,
     "metadata": {},
     "output_type": "execute_result"
    }
   ],
   "source": [
    "gdp.shape"
   ]
  },
  {
   "cell_type": "code",
   "execution_count": 7,
   "metadata": {},
   "outputs": [
    {
     "data": {
      "text/html": [
       "<div>\n",
       "<style scoped>\n",
       "    .dataframe tbody tr th:only-of-type {\n",
       "        vertical-align: middle;\n",
       "    }\n",
       "\n",
       "    .dataframe tbody tr th {\n",
       "        vertical-align: top;\n",
       "    }\n",
       "\n",
       "    .dataframe thead th {\n",
       "        text-align: right;\n",
       "    }\n",
       "</style>\n",
       "<table border=\"1\" class=\"dataframe\">\n",
       "  <thead>\n",
       "    <tr style=\"text-align: right;\">\n",
       "      <th></th>\n",
       "      <th>Year</th>\n",
       "      <th>Value</th>\n",
       "    </tr>\n",
       "  </thead>\n",
       "  <tbody>\n",
       "    <tr>\n",
       "      <th>50</th>\n",
       "      <td>2010</td>\n",
       "      <td>6.039659e+12</td>\n",
       "    </tr>\n",
       "    <tr>\n",
       "      <th>51</th>\n",
       "      <td>2011</td>\n",
       "      <td>7.492432e+12</td>\n",
       "    </tr>\n",
       "    <tr>\n",
       "      <th>52</th>\n",
       "      <td>2012</td>\n",
       "      <td>8.461623e+12</td>\n",
       "    </tr>\n",
       "    <tr>\n",
       "      <th>53</th>\n",
       "      <td>2013</td>\n",
       "      <td>9.490603e+12</td>\n",
       "    </tr>\n",
       "    <tr>\n",
       "      <th>54</th>\n",
       "      <td>2014</td>\n",
       "      <td>1.035483e+13</td>\n",
       "    </tr>\n",
       "  </tbody>\n",
       "</table>\n",
       "</div>"
      ],
      "text/plain": [
       "    Year         Value\n",
       "50  2010  6.039659e+12\n",
       "51  2011  7.492432e+12\n",
       "52  2012  8.461623e+12\n",
       "53  2013  9.490603e+12\n",
       "54  2014  1.035483e+13"
      ]
     },
     "execution_count": 7,
     "metadata": {},
     "output_type": "execute_result"
    }
   ],
   "source": [
    "gdp.tail()"
   ]
  },
  {
   "cell_type": "code",
   "execution_count": 8,
   "metadata": {},
   "outputs": [
    {
     "data": {
      "text/plain": [
       "<matplotlib.collections.PathCollection at 0xfb94ac8>"
      ]
     },
     "execution_count": 8,
     "metadata": {},
     "output_type": "execute_result"
    },
    {
     "data": {
      "image/png": "[encoded data removed]",
      "text/plain": [
       "<Figure size 432x288 with 1 Axes>"
      ]
     },
     "metadata": {
      "needs_background": "light"
     },
     "output_type": "display_data"
    }
   ],
   "source": [
    "plt.scatter(gdp['Year'],gdp['Value'])"
   ]
  },
  {
   "cell_type": "markdown",
   "metadata": {},
   "source": [
    "- Convert data to Poly Nomial Features\n",
    "- Linear Regression"
   ]
  },
  {
   "cell_type": "markdown",
   "metadata": {},
   "source": [
    " - $$ Y = m_0 * x^0 + M_1 * x^1 + M_2 * x^2+..........+M_n * x^n\n",
    " - p1 = x^1\n",
    " - p2 = x^2\n",
    " - p3 = x^3\n",
    "\n",
    " - $$ Y = M_1 * p_1 + M_2 * p_2 + M_3 * p_3 + C"
   ]
  },
  {
   "cell_type": "code",
   "execution_count": 9,
   "metadata": {},
   "outputs": [],
   "source": [
    "x=gdp['Year'].values.reshape(-1,1)\n",
    "y=gdp['Value']"
   ]
  },
  {
   "cell_type": "code",
   "execution_count": 10,
   "metadata": {},
   "outputs": [],
   "source": [
    "from sklearn.preprocessing import PolynomialFeatures"
   ]
  },
  {
   "cell_type": "code",
   "execution_count": 11,
   "metadata": {},
   "outputs": [],
   "source": [
    "poly = PolynomialFeatures(degree = 3)"
   ]
  },
  {
   "cell_type": "code",
   "execution_count": 17,
   "metadata": {},
   "outputs": [],
   "source": [
    "from sklearn.linear_model import LinearRegression"
   ]
  },
  {
   "cell_type": "code",
   "execution_count": 13,
   "metadata": {},
   "outputs": [
    {
     "data": {
      "text/plain": [
       "array([[1.00000000e+00, 1.96000000e+03, 3.84160000e+06, 7.52953600e+09],\n",
       "       [1.00000000e+00, 1.96100000e+03, 3.84552100e+06, 7.54106668e+09],\n",
       "       [1.00000000e+00, 1.96200000e+03, 3.84944400e+06, 7.55260913e+09],\n",
       "       [1.00000000e+00, 1.96300000e+03, 3.85336900e+06, 7.56416335e+09],\n",
       "       [1.00000000e+00, 1.96400000e+03, 3.85729600e+06, 7.57572934e+09],\n",
       "       [1.00000000e+00, 1.96500000e+03, 3.86122500e+06, 7.58730712e+09],\n",
       "       [1.00000000e+00, 1.96600000e+03, 3.86515600e+06, 7.59889670e+09],\n",
       "       [1.00000000e+00, 1.96700000e+03, 3.86908900e+06, 7.61049806e+09],\n",
       "       [1.00000000e+00, 1.96800000e+03, 3.87302400e+06, 7.62211123e+09],\n",
       "       [1.00000000e+00, 1.96900000e+03, 3.87696100e+06, 7.63373621e+09],\n",
       "       [1.00000000e+00, 1.97000000e+03, 3.88090000e+06, 7.64537300e+09],\n",
       "       [1.00000000e+00, 1.97100000e+03, 3.88484100e+06, 7.65702161e+09],\n",
       "       [1.00000000e+00, 1.97200000e+03, 3.88878400e+06, 7.66868205e+09],\n",
       "       [1.00000000e+00, 1.97300000e+03, 3.89272900e+06, 7.68035432e+09],\n",
       "       [1.00000000e+00, 1.97400000e+03, 3.89667600e+06, 7.69203842e+09],\n",
       "       [1.00000000e+00, 1.97500000e+03, 3.90062500e+06, 7.70373438e+09],\n",
       "       [1.00000000e+00, 1.97600000e+03, 3.90457600e+06, 7.71544218e+09],\n",
       "       [1.00000000e+00, 1.97700000e+03, 3.90852900e+06, 7.72716183e+09],\n",
       "       [1.00000000e+00, 1.97800000e+03, 3.91248400e+06, 7.73889335e+09],\n",
       "       [1.00000000e+00, 1.97900000e+03, 3.91644100e+06, 7.75063674e+09],\n",
       "       [1.00000000e+00, 1.98000000e+03, 3.92040000e+06, 7.76239200e+09],\n",
       "       [1.00000000e+00, 1.98100000e+03, 3.92436100e+06, 7.77415914e+09],\n",
       "       [1.00000000e+00, 1.98200000e+03, 3.92832400e+06, 7.78593817e+09],\n",
       "       [1.00000000e+00, 1.98300000e+03, 3.93228900e+06, 7.79772909e+09],\n",
       "       [1.00000000e+00, 1.98400000e+03, 3.93625600e+06, 7.80953190e+09],\n",
       "       [1.00000000e+00, 1.98500000e+03, 3.94022500e+06, 7.82134662e+09],\n",
       "       [1.00000000e+00, 1.98600000e+03, 3.94419600e+06, 7.83317326e+09],\n",
       "       [1.00000000e+00, 1.98700000e+03, 3.94816900e+06, 7.84501180e+09],\n",
       "       [1.00000000e+00, 1.98800000e+03, 3.95214400e+06, 7.85686227e+09],\n",
       "       [1.00000000e+00, 1.98900000e+03, 3.95612100e+06, 7.86872467e+09],\n",
       "       [1.00000000e+00, 1.99000000e+03, 3.96010000e+06, 7.88059900e+09],\n",
       "       [1.00000000e+00, 1.99100000e+03, 3.96408100e+06, 7.89248527e+09],\n",
       "       [1.00000000e+00, 1.99200000e+03, 3.96806400e+06, 7.90438349e+09],\n",
       "       [1.00000000e+00, 1.99300000e+03, 3.97204900e+06, 7.91629366e+09],\n",
       "       [1.00000000e+00, 1.99400000e+03, 3.97603600e+06, 7.92821578e+09],\n",
       "       [1.00000000e+00, 1.99500000e+03, 3.98002500e+06, 7.94014988e+09],\n",
       "       [1.00000000e+00, 1.99600000e+03, 3.98401600e+06, 7.95209594e+09],\n",
       "       [1.00000000e+00, 1.99700000e+03, 3.98800900e+06, 7.96405397e+09],\n",
       "       [1.00000000e+00, 1.99800000e+03, 3.99200400e+06, 7.97602399e+09],\n",
       "       [1.00000000e+00, 1.99900000e+03, 3.99600100e+06, 7.98800600e+09],\n",
       "       [1.00000000e+00, 2.00000000e+03, 4.00000000e+06, 8.00000000e+09],\n",
       "       [1.00000000e+00, 2.00100000e+03, 4.00400100e+06, 8.01200600e+09],\n",
       "       [1.00000000e+00, 2.00200000e+03, 4.00800400e+06, 8.02402401e+09],\n",
       "       [1.00000000e+00, 2.00300000e+03, 4.01200900e+06, 8.03605403e+09],\n",
       "       [1.00000000e+00, 2.00400000e+03, 4.01601600e+06, 8.04809606e+09],\n",
       "       [1.00000000e+00, 2.00500000e+03, 4.02002500e+06, 8.06015012e+09],\n",
       "       [1.00000000e+00, 2.00600000e+03, 4.02403600e+06, 8.07221622e+09],\n",
       "       [1.00000000e+00, 2.00700000e+03, 4.02804900e+06, 8.08429434e+09],\n",
       "       [1.00000000e+00, 2.00800000e+03, 4.03206400e+06, 8.09638451e+09],\n",
       "       [1.00000000e+00, 2.00900000e+03, 4.03608100e+06, 8.10848673e+09],\n",
       "       [1.00000000e+00, 2.01000000e+03, 4.04010000e+06, 8.12060100e+09],\n",
       "       [1.00000000e+00, 2.01100000e+03, 4.04412100e+06, 8.13272733e+09],\n",
       "       [1.00000000e+00, 2.01200000e+03, 4.04814400e+06, 8.14486573e+09],\n",
       "       [1.00000000e+00, 2.01300000e+03, 4.05216900e+06, 8.15701620e+09],\n",
       "       [1.00000000e+00, 2.01400000e+03, 4.05619600e+06, 8.16917874e+09]])"
      ]
     },
     "execution_count": 13,
     "metadata": {},
     "output_type": "execute_result"
    }
   ],
   "source": [
    "x_poly=poly.fit_transform(x)\n",
    "x_poly"
   ]
  },
  {
   "cell_type": "code",
   "execution_count": 18,
   "metadata": {},
   "outputs": [],
   "source": [
    "model1=LinearRegression()"
   ]
  },
  {
   "cell_type": "code",
   "execution_count": 19,
   "metadata": {},
   "outputs": [
    {
     "data": {
      "text/plain": [
       "LinearRegression()"
      ]
     },
     "execution_count": 19,
     "metadata": {},
     "output_type": "execute_result"
    }
   ],
   "source": [
    "model1.fit(x_poly, y)"
   ]
  },
  {
   "cell_type": "code",
   "execution_count": 21,
   "metadata": {},
   "outputs": [
    {
     "data": {
      "text/plain": [
       "array([1.04551319e+13])"
      ]
     },
     "execution_count": 21,
     "metadata": {},
     "output_type": "execute_result"
    }
   ],
   "source": [
    "model1.predict(poly.fit_transform([[2015]]))"
   ]
  },
  {
   "cell_type": "code",
   "execution_count": 22,
   "metadata": {},
   "outputs": [],
   "source": [
    "pred = model1.predict(x_poly)"
   ]
  },
  {
   "cell_type": "code",
   "execution_count": 24,
   "metadata": {},
   "outputs": [],
   "source": [
    "from sklearn.metrics import r2_score,mean_squared_error"
   ]
  },
  {
   "cell_type": "code",
   "execution_count": 25,
   "metadata": {},
   "outputs": [
    {
     "data": {
      "text/plain": [
       "0.9645101039190398"
      ]
     },
     "execution_count": 25,
     "metadata": {},
     "output_type": "execute_result"
    }
   ],
   "source": [
    "r2_score(y, pred)"
   ]
  },
  {
   "cell_type": "code",
   "execution_count": 27,
   "metadata": {},
   "outputs": [
    {
     "data": {
      "text/plain": [
       "[<matplotlib.lines.Line2D at 0x106fc748>]"
      ]
     },
     "execution_count": 27,
     "metadata": {},
     "output_type": "execute_result"
    },
    {
     "data": {
      "image/png": "[encoded data removed]",
      "text/plain": [
       "<Figure size 432x288 with 1 Axes>"
      ]
     },
     "metadata": {
      "needs_background": "light"
     },
     "output_type": "display_data"
    }
   ],
   "source": [
    "plt.scatter(gdp['Year'],gdp['Value'])\n",
    "plt.plot(gdp['Year'],pred,c='r')"
   ]
  },
  {
   "cell_type": "code",
   "execution_count": 28,
   "metadata": {},
   "outputs": [
    {
     "data": {
      "text/plain": [
       "array([ 0.00000000e+00,  3.24332951e+15, -1.63848615e+12,  2.75908680e+08])"
      ]
     },
     "execution_count": 28,
     "metadata": {},
     "output_type": "execute_result"
    }
   ],
   "source": [
    "model1.coef_"
   ]
  },
  {
   "cell_type": "code",
   "execution_count": 30,
   "metadata": {},
   "outputs": [],
   "source": [
    "acc=[]\n",
    "for i in range(2,15):\n",
    "    poly=PolynomialFeatures(degree=i)\n",
    "    x_poly = poly.fit_transform(x)\n",
    "    model1 = LinearRegression()\n",
    "    model1.fit(x_poly,y)\n",
    "    model1.predict(poly.fit_transform([[2015]]))\n",
    "    pred = model1.predict(x_poly)\n",
    "    acc.append(r2_score(y,pred))"
   ]
  },
  {
   "cell_type": "code",
   "execution_count": 31,
   "metadata": {},
   "outputs": [
    {
     "data": {
      "text/plain": [
       "[0.842444347417096,\n",
       " 0.9645101039190398,\n",
       " 0.9651202302149839,\n",
       " 0.9657218086590584,\n",
       " 0.9663149021232567,\n",
       " 0.9668995728709138,\n",
       " 0.9674758835399555,\n",
       " 0.968043897114671,\n",
       " 0.9686036769353393,\n",
       " 0.9691552866501768,\n",
       " 0.9696987902283306,\n",
       " 0.9702342519181215,\n",
       " 0.9707617362695212]"
      ]
     },
     "execution_count": 31,
     "metadata": {},
     "output_type": "execute_result"
    }
   ],
   "source": [
    "acc"
   ]
  },
  {
   "cell_type": "code",
   "execution_count": null,
   "metadata": {},
   "outputs": [],
   "source": []
  }
 ],
 "metadata": {
  "kernelspec": {
   "display_name": "Python 3",
   "language": "python",
   "name": "python3"
  },
  "language_info": {
   "codemirror_mode": {
    "name": "ipython",
    "version": 3
   },
   "file_extension": ".py",
   "mimetype": "text/x-python",
   "name": "python",
   "nbconvert_exporter": "python",
   "pygments_lexer": "ipython3",
   "version": "3.7.3"
  }
 },
 "nbformat": 4,
 "nbformat_minor": 4
}
